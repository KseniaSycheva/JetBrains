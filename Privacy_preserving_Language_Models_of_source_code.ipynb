{
  "cells": [
    {
      "cell_type": "markdown",
      "source": [
        "Install dependencies and login to HuggingFace to access StarCoder model."
      ],
      "metadata": {
        "id": "zY9nlN4V_x8G"
      }
    },
    {
      "cell_type": "code",
      "execution_count": 1,
      "metadata": {
        "colab": {
          "base_uri": "https://localhost:8080/"
        },
        "id": "VuhiC8RiAwNl",
        "outputId": "581d9671-ef11-4e6b-cc1d-93f948161408"
      },
      "outputs": [
        {
          "output_type": "stream",
          "name": "stdout",
          "text": [
            "\u001b[2K     \u001b[90m━━━━━━━━━━━━━━━━━━━━━━━━━━━━━━━━━━━━━━━━\u001b[0m \u001b[32m92.6/92.6 MB\u001b[0m \u001b[31m6.9 MB/s\u001b[0m eta \u001b[36m0:00:00\u001b[0m\n",
            "\u001b[2K     \u001b[90m━━━━━━━━━━━━━━━━━━━━━━━━━━━━━━━━━━━━━━━━\u001b[0m \u001b[32m168.3/168.3 kB\u001b[0m \u001b[31m4.0 MB/s\u001b[0m eta \u001b[36m0:00:00\u001b[0m\n",
            "\u001b[2K     \u001b[90m━━━━━━━━━━━━━━━━━━━━━━━━━━━━━━━━━━━━━━━━\u001b[0m \u001b[32m265.7/265.7 kB\u001b[0m \u001b[31m9.7 MB/s\u001b[0m eta \u001b[36m0:00:00\u001b[0m\n",
            "\u001b[?25h"
          ]
        }
      ],
      "source": [
        "!pip install transformers --q\n",
        "!pip install bitsandbytes --q\n",
        "!pip install peft --q"
      ]
    },
    {
      "cell_type": "code",
      "execution_count": 2,
      "metadata": {
        "colab": {
          "base_uri": "https://localhost:8080/"
        },
        "id": "CAJIgvRCTLYH",
        "outputId": "7ed71e71-7291-4941-dc96-0aee4e64e4ed"
      },
      "outputs": [
        {
          "output_type": "stream",
          "name": "stdout",
          "text": [
            "\n",
            "    _|    _|  _|    _|    _|_|_|    _|_|_|  _|_|_|  _|      _|    _|_|_|      _|_|_|_|    _|_|      _|_|_|  _|_|_|_|\n",
            "    _|    _|  _|    _|  _|        _|          _|    _|_|    _|  _|            _|        _|    _|  _|        _|\n",
            "    _|_|_|_|  _|    _|  _|  _|_|  _|  _|_|    _|    _|  _|  _|  _|  _|_|      _|_|_|    _|_|_|_|  _|        _|_|_|\n",
            "    _|    _|  _|    _|  _|    _|  _|    _|    _|    _|    _|_|  _|    _|      _|        _|    _|  _|        _|\n",
            "    _|    _|    _|_|      _|_|_|    _|_|_|  _|_|_|  _|      _|    _|_|_|      _|        _|    _|    _|_|_|  _|_|_|_|\n",
            "\n",
            "    To login, `huggingface_hub` requires a token generated from https://huggingface.co/settings/tokens .\n",
            "Token: \n",
            "Add token as git credential? (Y/n) n\n",
            "Token is valid (permission: read).\n",
            "Your token has been saved to /root/.cache/huggingface/token\n",
            "Login successful\n"
          ]
        }
      ],
      "source": [
        "!huggingface-cli login"
      ]
    },
    {
      "cell_type": "code",
      "execution_count": 3,
      "metadata": {
        "id": "0kgxD2frpNVz"
      },
      "outputs": [],
      "source": [
        "\"\"\"\n",
        "Generate samples with StarCoder and filter out those that are likely to be\n",
        "memorized samples from the training set.\n",
        "\"\"\"\n",
        "\n",
        "import logging\n",
        "logging.basicConfig(level='ERROR')\n",
        "\n",
        "import locale # colab workaround\n",
        "locale.getpreferredencoding = lambda: \"UTF-8\" # colab workaround\n",
        "\n",
        "import math\n",
        "import argparse\n",
        "import random\n",
        "import numpy as np\n",
        "from pprint import pprint\n",
        "import matplotlib.pyplot as plt\n",
        "import sys\n",
        "import torch\n",
        "import zlib\n",
        "from transformers import AutoTokenizer, AutoModelForCausalLM, BitsAndBytesConfig, LogitsWarper, LogitsProcessorList\n",
        "from tqdm import tqdm\n",
        "\n",
        "device = torch.device('cuda' if torch.cuda.is_available() else 'cpu')"
      ]
    },
    {
      "cell_type": "markdown",
      "source": [
        "# **Base Setup**\n",
        "Base code is taken from the authors of the paper https://arxiv.org/pdf/2012.07805.pdf. I conducted similar data extraction experiment for StarCoder-3b model. For a smaller model, StarCoder-1b is used.\n",
        "\n",
        "Base setup for experiment:\n",
        "\n",
        "1.   use pretrained model StarCoder-3b\n",
        "2.   generate 1000 samples from model\n",
        "3.   calculate 4 metrics for each batch of samples (perplexity, ratio between large and small models perplexity, ratio between lower and normal case perplexity, zlib compression score)\n",
        "---"
      ],
      "metadata": {
        "id": "UWa-FaWgAYPs"
      }
    },
    {
      "cell_type": "code",
      "execution_count": 4,
      "metadata": {
        "id": "mF82o02HpTqc"
      },
      "outputs": [],
      "source": [
        "class TemperatureLogitsWarper(LogitsWarper):\n",
        "    def __init__(self, start_temperature: float, end_temperature: float, num_tokens: int):\n",
        "        self.temperature = start_temperature\n",
        "        self.diff = (start_temperature - end_temperature) / num_tokens\n",
        "        self.num_tokens = num_tokens\n",
        "        self.counter = 0\n",
        "\n",
        "    def __call__(self, input_ids: torch.Tensor, scores: torch.Tensor) -> torch.Tensor:\n",
        "        scores = scores / self.temperature\n",
        "        if self.num_tokens > self.counter:\n",
        "          self.counter += 1\n",
        "          self.temperature -= self.diff\n",
        "\n",
        "        return scores\n",
        "\n",
        "\n",
        "def calculatePerplexity(sentence, model, tokenizer):\n",
        "    input_ids = torch.tensor(tokenizer.encode(sentence)).unsqueeze(0)\n",
        "    input_ids = input_ids.to(device)\n",
        "    with torch.no_grad():\n",
        "        outputs = model(input_ids, labels=input_ids)\n",
        "    loss, logits = outputs[:2]\n",
        "    return torch.exp(loss)\n",
        "\n",
        "\n",
        "def calculateLogProbSequence(tokens, model):\n",
        "  tokens = torch.flatten(tokens)\n",
        "  inputs = tokens[:-1].unsqueeze(0)\n",
        "  targets = tokens[1:].unsqueeze(0)\n",
        "\n",
        "  with torch.no_grad():\n",
        "      outputs = model(inputs, labels=targets)\n",
        "  loss = outputs[0]\n",
        "  logp = loss.item()\n",
        "\n",
        "  return logp\n",
        "\n",
        "\n",
        "def print_best(metric, samples, name1, scores1, name2=None, scores2=None, n=10):\n",
        "    \"\"\"\n",
        "    print the `n` best samples according to the given `metric`\n",
        "    \"\"\"\n",
        "    idxs = np.argsort(metric)[::-1][:n]\n",
        "    filename = name1\n",
        "    if name2 is not None:\n",
        "      filename = filename + '_' + name2 + '.txt'\n",
        "    else:\n",
        "      filename = filename + '.txt'\n",
        "    with open(filename, 'w') as fp:\n",
        "      for i, idx in enumerate(idxs):\n",
        "          if scores2 is not None:\n",
        "              fp.write(f\"{i+1}: {name1}={scores1[idx]:.3f}, {name2}={scores2[idx]:.3f}, score={metric[idx]:.3f}\")\n",
        "          else:\n",
        "              fp.write(f\"{i+1}: {name1}={scores1[idx]:.3f}, , score={metric[idx]:.3f}\")\n",
        "\n",
        "          fp.write('\\n')\n",
        "          fp.write(samples[idx].encode('utf-8').decode('ascii', 'ignore'))\n",
        "          fp.write('\\n')\n",
        "          fp.write('\\n')\n",
        "\n",
        "\n",
        "def init_models():\n",
        "    print(\"Loading StarCoder...\")\n",
        "    tokenizer = AutoTokenizer.from_pretrained('bigcode/starcoderbase-3b')\n",
        "    tokenizer.padding_side = \"left\"\n",
        "    tokenizer.pad_token = tokenizer.eos_token\n",
        "\n",
        "    use_4bit = True\n",
        "    bnb_4bit_compute_dtype = \"float16\"\n",
        "    bnb_4bit_quant_type = \"nf4\"\n",
        "    use_nested_quant = False\n",
        "\n",
        "    # load quantized model, since it is large\n",
        "    compute_dtype = getattr(torch, bnb_4bit_compute_dtype)\n",
        "\n",
        "    bnb_config = BitsAndBytesConfig(\n",
        "        load_in_4bit=use_4bit,\n",
        "        bnb_4bit_quant_type=bnb_4bit_quant_type,\n",
        "        bnb_4bit_compute_dtype=compute_dtype,\n",
        "        bnb_4bit_use_double_quant=use_nested_quant,\n",
        "    )\n",
        "\n",
        "    model1 = AutoModelForCausalLM.from_pretrained('bigcode/starcoderbase-3b',\n",
        "                                                  return_dict=True,\n",
        "                                                  quantization_config=bnb_config)\n",
        "    model1.config.pad_token_id = model1.config.eos_token_id\n",
        "    model2 = AutoModelForCausalLM.from_pretrained('bigcode/starcoderbase-1b',\n",
        "                                                  return_dict=True,\n",
        "                                                  quantization_config=bnb_config)\n",
        "    model1.eval()\n",
        "    model2.eval()\n",
        "\n",
        "    return model1, model2, tokenizer\n",
        "\n",
        "\n",
        "def get_scores(texts, model1, model2, tokenizer, scores):\n",
        "    for text in texts:\n",
        "        # perplexity of StarCoder-3b and StarCoder-1b\n",
        "        p1 = calculatePerplexity(text, model1, tokenizer)\n",
        "        p2 = calculatePerplexity(text, model2, tokenizer)\n",
        "\n",
        "        # perplexity on lower-case sample\n",
        "        p_lower = calculatePerplexity(text.lower(), model1, tokenizer)\n",
        "\n",
        "        # Zlib \"entropy\" of sample\n",
        "        zlib_entropy = len(zlib.compress(bytes(text, 'utf-8')))\n",
        "\n",
        "        scores[\"XL\"].append(p1.item())\n",
        "        scores[\"S\"].append(p2.item())\n",
        "        scores[\"Lower\"].append(p_lower.item())\n",
        "        scores[\"zlib\"].append(zlib_entropy)\n",
        "\n",
        "    return scores"
      ]
    },
    {
      "cell_type": "code",
      "execution_count": 10,
      "metadata": {
        "colab": {
          "base_uri": "https://localhost:8080/"
        },
        "id": "kTb427pRpcd8",
        "outputId": "4e924e55-1366-44cd-f0d1-32307da1b28b"
      },
      "outputs": [
        {
          "output_type": "stream",
          "name": "stdout",
          "text": [
            "using device: cuda\n"
          ]
        },
        {
          "output_type": "stream",
          "name": "stderr",
          "text": [
            "  0%|          | 0/10 [00:00<?, ?it/s]A decoder-only architecture is being used, but right-padding was detected! For correct generation results, please set `padding_side='left'` when initializing the tokenizer.\n",
            "100%|██████████| 10/10 [01:03<00:00,  6.30s/it]"
          ]
        },
        {
          "output_type": "stream",
          "name": "stdout",
          "text": [
            "======== top sample by XL perplexity: ========\n",
            "\n",
            "\n",
            "======== top sample by ratio of S and XL perplexities: ========\n",
            "\n",
            "\n",
            "======== top sample by ratio of lower-case and normal-case perplexities: ========\n",
            "\n",
            "\n",
            "======== top sample by ratio of Zlib entropy and XL perplexity: ========\n",
            "\n",
            "\n",
            "======== top sample by maximum z-score in probabilities of different permutations: ========\n"
          ]
        },
        {
          "output_type": "stream",
          "name": "stderr",
          "text": [
            "\n"
          ]
        }
      ],
      "source": [
        "def main(model1, model2, tokenizer, N, batch_size, top_n, m, decay_temperature):\n",
        "    print(f\"using device: {device}\")\n",
        "\n",
        "    # number of tokens to generate\n",
        "    seq_len = 256\n",
        "\n",
        "    # sample from the top_k tokens output by the model\n",
        "    top_k = 40\n",
        "\n",
        "    samples = []\n",
        "    scores = {\"XL\": [], \"S\": [], \"Lower\": [], \"zlib\": [], \"shuffle\": []}\n",
        "\n",
        "    num_batches = int(np.ceil(N / batch_size))\n",
        "    with tqdm(total=N) as pbar:\n",
        "        for i in range(num_batches):\n",
        "            # encode the prompts\n",
        "            prompts = [\"<|endoftext|>\"] * batch_size\n",
        "            input_len = 1\n",
        "            inputs = tokenizer(prompts, return_tensors=\"pt\", padding=True)\n",
        "\n",
        "            # batch generation\n",
        "            if decay_temperature:\n",
        "              logits_warper = LogitsProcessorList(\n",
        "                  [\n",
        "                      TemperatureLogitsWarper(10, 1, 20),\n",
        "                  ]\n",
        "              )\n",
        "              output_sequences = model1.generate(\n",
        "                  input_ids=inputs['input_ids'].to(device),\n",
        "                  attention_mask=inputs['attention_mask'].to(device),\n",
        "                  max_length=input_len + seq_len,\n",
        "                  do_sample=True,\n",
        "                  top_k=top_k,\n",
        "                  top_p=1.0,\n",
        "                  logits_processor=logits_warper\n",
        "              )\n",
        "            else:\n",
        "              output_sequences = model1.generate(\n",
        "                  input_ids=inputs['input_ids'].to(device),\n",
        "                  attention_mask=inputs['attention_mask'].to(device),\n",
        "                  max_length=input_len + seq_len,\n",
        "                  do_sample=True,\n",
        "                  top_k=top_k,\n",
        "                  top_p=1.0\n",
        "              )\n",
        "\n",
        "            texts = tokenizer.batch_decode(output_sequences, skip_special_tokens=True)\n",
        "\n",
        "            scores = get_scores(texts, model1, model2, tokenizer, scores)\n",
        "            samples.extend(texts)\n",
        "\n",
        "            shuffled = []\n",
        "            for _ in range(m):\n",
        "                p = torch.randperm(batch_size)\n",
        "                output_sequences = output_sequences[p]\n",
        "                shuffled.append(calculateLogProbSequence(output_sequences, model1))\n",
        "\n",
        "            shuffled = np.asarray(shuffled)\n",
        "            z = (shuffled - shuffled.mean()) / shuffled.std()\n",
        "            scores[\"shuffle\"].extend([np.max(z)] * batch_size)\n",
        "\n",
        "            pbar.update(batch_size)\n",
        "\n",
        "    scores[\"XL\"] = np.asarray(scores[\"XL\"])\n",
        "    scores[\"S\"] = np.asarray(scores[\"S\"])\n",
        "    scores[\"Lower\"] = np.asarray(scores[\"Lower\"])\n",
        "    scores[\"zlib\"] = np.asarray(scores[\"zlib\"])\n",
        "    scores[\"shuffle\"] = np.asarray(scores[\"shuffle\"])\n",
        "\n",
        "    # Sort by perplexity\n",
        "    metric = -np.log(scores[\"XL\"])\n",
        "    print(f\"======== top sample by XL perplexity: ========\")\n",
        "    print_best(metric, samples, \"PPL\", scores[\"XL\"], n=top_n)\n",
        "    print()\n",
        "    print()\n",
        "\n",
        "    # Sort by ratio of log perplexities of S and XL models\n",
        "    metric = np.log(scores[\"S\"]) / np.log(scores[\"XL\"])\n",
        "    print(f\"======== top sample by ratio of S and XL perplexities: ========\")\n",
        "    print_best(metric, samples, \"PPL-XL\", scores[\"XL\"], \"PPL-S\", scores[\"S\"], n=top_n)\n",
        "    print()\n",
        "    print()\n",
        "\n",
        "    # Sort by ratio of log perplexities of lower-case and normal-case perplexities\n",
        "    metric = np.log(scores[\"Lower\"]) / np.log(scores[\"XL\"])\n",
        "    print(f\"======== top sample by ratio of lower-case and normal-case perplexities: ========\")\n",
        "    print_best(metric, samples, \"PPL-XL\", scores[\"XL\"], \"PPL-XL-Lower\", scores[\"Lower\"], n=top_n)\n",
        "    print()\n",
        "    print()\n",
        "\n",
        "    # Sort by ratio of Zlib entropy and XL perplexity\n",
        "    metric = scores[\"zlib\"] / np.log(scores[\"XL\"])\n",
        "    print(f\"======== top sample by ratio of Zlib entropy and XL perplexity: ========\")\n",
        "    print_best(metric, samples, \"PPL-XL\", scores[\"XL\"], \"Zlib\", scores[\"zlib\"], n=top_n)\n",
        "    print()\n",
        "    print()\n",
        "\n",
        "    # Sort by maximum z-score in probabilities of different permutations\n",
        "    metric = scores[\"shuffle\"]\n",
        "    print(f\"======== top sample by maximum z-score in probabilities of different permutations: ========\")\n",
        "    print_best(metric, samples, \"Shuffle\", scores[\"shuffle\"], n=top_n)\n",
        "\n",
        "\n",
        "if __name__ == '__main__':\n",
        "    model1, model2, tokenizer = init_models()\n",
        "    main(model1, model2, tokenizer, 1000, 10, 100, 20, True)"
      ]
    },
    {
      "cell_type": "markdown",
      "source": [
        "# **Improving Generation**\n",
        "\n",
        "\n",
        "In the paper, authors mention that generation can be diversified when using larger values for temperature. This feature was not provided in the original code, so I added it and compared sentences generated with and without scaled temperature.\n",
        "\n",
        "\n",
        "It can be seen from the results that sentences are indeed more diverse. Let's define groups of common generated examples that can be analyzed:\n",
        "\n",
        "\n",
        "\n",
        "\n",
        "*  texts of licences\n",
        "*  links to git repositories\n",
        "*  code samples\n",
        "*  names\n",
        "*  unique numbers encountered in commits/processes/issues\n",
        "\n",
        "\n",
        "Below you can find some statistics collected for the first three points listed above. Files from which this data was collected can be found in git. For other groups, unique numbers appear for both methods of generation, however names of methods/classes in code are less \"usual\" for generation with temperature.\n",
        "\n",
        "\n",
        "---\n"
      ],
      "metadata": {
        "id": "JurEOLzvEwXs"
      }
    },
    {
      "cell_type": "code",
      "source": [
        "no_temperature = [237 + 116 + 342, 78 + 40 + 96, 3 + 2 + 13, 123 + 236 + 138]\n",
        "temperature = [78 + 97 + 122, 23 + 47 + 49, 12 + 5 + 6, 68 + 11 + 45]\n",
        "labels = ['Word \\\"License\\\" Count', 'Word \\\"Copyright\\\" Count',\n",
        "          'Github Links', 'Word \\\"import\\\" Count']\n",
        "xx = [x for x in range(4)]\n",
        "\n",
        "plt.rcParams[\"figure.figsize\"] = (10, 5)\n",
        "plt.bar(xx, no_temperature, width=0.3, color='r', label='Without temperature')\n",
        "plt.bar([x + 0.3 for x in xx], temperature, width=0.3, color='b', label='With temperature')\n",
        "plt.xticks([x + 0.3 / 2 for x in xx], labels)\n",
        "plt.legend(loc='best')\n",
        "plt.show()"
      ],
      "metadata": {
        "colab": {
          "base_uri": "https://localhost:8080/",
          "height": 445
        },
        "id": "EDW296yVJB9r",
        "outputId": "5a364f5b-f8c1-4988-c501-b86f604d2e16"
      },
      "execution_count": 11,
      "outputs": [
        {
          "output_type": "display_data",
          "data": {
            "text/plain": [
              "<Figure size 1000x500 with 1 Axes>"
            ],
            "image/png": "[encoded data removed]"
          },
          "metadata": {}
        }
      ]
    },
    {
      "cell_type": "markdown",
      "source": [
        "Regarding github links, approximately half of them found by temperature generation are links to user accounts (most of them are actually valid), while generation without scaled temperature has most of the github links that refer to popular websites (like link to Go or Rust git).\n",
        "\n",
        "These results show that scaling temperature in generation might be helpful for detecting memorized examples that appear in training data not often (in paper it is called k-eidetic memorization with small k value).\n",
        "\n",
        "---"
      ],
      "metadata": {
        "id": "nhKbhAmuP6dj"
      }
    },
    {
      "cell_type": "markdown",
      "source": [
        "# **Inference**\n",
        "\n",
        "Here is the code to estimate how likely it is that a sentence was present in the training data. In the following example, as expected, all scores are higher for license text than for Shakespeare poem."
      ],
      "metadata": {
        "id": "zZOl58AyShg2"
      }
    },
    {
      "cell_type": "code",
      "execution_count": 13,
      "metadata": {
        "colab": {
          "base_uri": "https://localhost:8080/",
          "height": 445
        },
        "id": "xXb7ubs5BYGK",
        "outputId": "d7c9e626-0f59-49e4-f547-cfd36d56b162"
      },
      "outputs": [
        {
          "output_type": "display_data",
          "data": {
            "text/plain": [
              "<Figure size 1000x500 with 2 Axes>"
            ],
            "image/png": "[encoded data removed]"
          },
          "metadata": {}
        }
      ],
      "source": [
        "def predict(text1, text2, model1, model2, tokenizer):\n",
        "    scores = {\"XL\": [], \"S\": [], \"Lower\": [], \"zlib\": []}\n",
        "    scores = get_scores([text1, text2], model1, model2, tokenizer, scores)\n",
        "\n",
        "    fig, axs = plt.subplots(1, 2)\n",
        "\n",
        "    xx = ['Perplexity', 'S / XL ratio', 'Lower / normal ratio']\n",
        "    metrics1 = [-np.log(scores[\"XL\"])[0],\n",
        "               (np.log(scores[\"S\"]) / np.log(scores[\"XL\"]))[0],\n",
        "               (np.log(scores[\"Lower\"]) / np.log(scores[\"XL\"]))[0],\n",
        "               (scores[\"zlib\"] / np.log(scores[\"XL\"]))[0]\n",
        "               ]\n",
        "\n",
        "    metrics2 = [-np.log(scores[\"XL\"])[1],\n",
        "               (np.log(scores[\"S\"]) / np.log(scores[\"XL\"]))[1],\n",
        "               (np.log(scores[\"Lower\"]) / np.log(scores[\"XL\"]))[1],\n",
        "               (scores[\"zlib\"] / np.log(scores[\"XL\"]))[1]\n",
        "               ]\n",
        "\n",
        "    axs[0].bar([x for x in range(3)], metrics1[:3], width=0.3, color='r', label='Text 1')\n",
        "    axs[0].bar([x + 0.3 for x in range(3)], metrics2[:3], width=0.3, color='b', label='Text 2')\n",
        "    axs[0].set_xticks([x + 0.3 / 2 for x in range(3)], xx)\n",
        "    axs[0].legend(loc='best')\n",
        "\n",
        "    axs[1].bar([x for x in range(3)], metrics1[3], width=0.3, color='r', label='Text 1')\n",
        "    axs[1].bar([x + 0.3 for x in range(3)], metrics2[3], width=0.3, color='b', label='Text 2')\n",
        "    plt.show()\n",
        "\n",
        "\n",
        "texts = [\"\"\"//\t* Licensed-down below\n",
        "\n",
        "  *\n",
        "  * Copyright 2016 <NAME>\n",
        "  *\n",
        "  * Licensed under the Apache License, Version 2.0 (the \"License\");\n",
        "  * you may not use this file except in compliance with the License.\n",
        "  * You may obtain a copy of the License at\n",
        "  *\n",
        "  *    http://www.apache.org/licenses/LICENSE-2.0\n",
        "  *\n",
        "  * Unless required by applicable law or agreed to in writing, software\n",
        "  * distributed under the License is distributed on an \"AS IS\" BASIS,\n",
        "  * WITHOUT WARRANTIES OR CONDITIONS OF ANY KIND, either express or implied.\n",
        "  * See the License for the specific language governing permissions and\n",
        "  * limitations under the License.\n",
        "  */\n",
        "  package org.jivesoftware.smack.packet;\n",
        "\n",
        "  import org.jivesoftware.smack.XMPPException;\n",
        "  import org.jivesoftware.smack.provider.ProviderManager;\n",
        "  import org.jivesoftware.smack.serialization.SmackXMLException;\n",
        "  import org.jivesoftware.smack.util.Objects;\n",
        "  import org.jivesoftware.sm\"\"\",\n",
        "\n",
        "         \"\"\"Sir, in my heart there was a kind of fighting\n",
        "  That would not let me sleep. Methought I lay\n",
        "  Worse than the mutines in the bilboes. Rashly—\n",
        "  And prais'd be rashness for it—let us know\n",
        "  Our indiscretion sometimes serves us well ...\"\"\"]\n",
        "\n",
        "predict(texts[0], texts[1], model1, model2, tokenizer)"
      ]
    },
    {
      "cell_type": "markdown",
      "source": [
        "# **Some Ideas**\n",
        "There is a recently published paper where authors claim that it is possible to probe test set contamination in a black box language model (https://arxiv.org/pdf/2310.17623.pdf). They prove that if models' parameters are independent from the data, the log probability of the model should be invariant to permutations of the examples from the dataset. Therefore, in order to test a model for test set contamination, they propose to shuffle samples from dataset N times and compare average log probability of shuffled sequences with the log probability of a sequence with a canonical order.\n",
        "\n",
        "\n",
        "It seems that this idea might be useful for this task. I conducted a small experiment where a list of generated sentences was shuffled for 20 times and looked at distribution of log probabilities (samples with larger deviation were scored higher). This method detected some of the data that is likely to be a part of a training set (valid github link), but was not detected by other methods. I realize that it is too early to derive conclusions from this experiment, but it might be a potential direction of research on this problem.\n",
        "\n",
        "\n",
        "---\n",
        "\n"
      ],
      "metadata": {
        "id": "AQ5hbqdhT3VO"
      }
    }
  ],
  "metadata": {
    "accelerator": "GPU",
    "colab": {
      "provenance": []
    },
    "kernelspec": {
      "display_name": "Python 3",
      "name": "python3"
    },
    "language_info": {
      "name": "python"
    }
  },
  "nbformat": 4,
  "nbformat_minor": 0
}